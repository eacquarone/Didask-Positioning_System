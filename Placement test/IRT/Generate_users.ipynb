{
 "cells": [
  {
   "cell_type": "markdown",
   "metadata": {},
   "source": [
    "# A way to generate good simulated students "
   ]
  },
  {
   "cell_type": "code",
   "execution_count": null,
   "metadata": {
    "collapsed": false
   },
   "outputs": [],
   "source": [
    "%pylab inline"
   ]
  },
  {
   "cell_type": "code",
   "execution_count": null,
   "metadata": {
    "collapsed": true
   },
   "outputs": [],
   "source": [
    "import statsmodels.api as sm\n",
    "import pandas as pd\n",
    "from scipy.stats import rv_continuous, norm, truncnorm, beta\n",
    "from numba import jit\n",
    "from igraph import Graph\n",
    "from igraph.drawing import plot as igraph_plot\n",
    "from matplotlib.collections import LineCollection\n",
    "from sklearn.linear_model import LinearRegression\n",
    "from sklearn.isotonic import IsotonicRegression\n",
    "from sklearn.utils import check_random_state"
   ]
  },
  {
   "cell_type": "code",
   "execution_count": null,
   "metadata": {
    "collapsed": true
   },
   "outputs": [],
   "source": [
    "def create_map_graph(edges_list,N=None):\n",
    "    map_graph = Graph(edges_list, directed=True)\n",
    "    map_graph.vs[\"label\"] = map_graph.vs[\"name\"] = [str(i+1) for i, v in enumerate(map_graph.vs)]\n",
    "    if N is not None:\n",
    "        map_graph.vs[\"item pool\"] = [[\"q_\"+str(i+1)+\"_\"+str(j+1) for j in range(N[i])] for i, v in enumerate(map_graph.vs)]\n",
    "    return map_graph\n",
    "\n",
    "def plot_map_graph(map_graph):\n",
    "    layout = map_graph.layout_sugiyama()\n",
    "    return igraph_plot(map_graph, bbox=(400, 400), layout=layout)"
   ]
  },
  {
   "cell_type": "code",
   "execution_count": null,
   "metadata": {
    "collapsed": true
   },
   "outputs": [],
   "source": [
    "#Example\n",
    "edges_list = [\n",
    "    (0, 1),\n",
    "    (0, 2),\n",
    "    (2, 3),\n",
    "    (1, 3)\n",
    "]\n",
    "N = [7, 6, 5, 7] "
   ]
  },
  {
   "cell_type": "code",
   "execution_count": null,
   "metadata": {
    "collapsed": false
   },
   "outputs": [],
   "source": [
    "map_graph = create_map_graph(edges_list,N)\n",
    "plot_map_graph(map_graph)"
   ]
  },
  {
   "cell_type": "code",
   "execution_count": null,
   "metadata": {
    "collapsed": true
   },
   "outputs": [],
   "source": [
    "def gamma_corresp(C):\n",
    "    return set(map_graph.neighbors(C, mode=\"ALL\"))"
   ]
  },
  {
   "cell_type": "code",
   "execution_count": null,
   "metadata": {
    "collapsed": true
   },
   "outputs": [],
   "source": [
    "def gamma_plus(C):\n",
    "    nodes = set([C])\n",
    "    linked_nodes = set(map_graph.neighbors(C,mode=\"OUT\"))\n",
    "    while len(nodes) > 0:\n",
    "        for node in nodes:\n",
    "            nodes = set(map_graph.neighbors(node,mode=\"OUT\"))\n",
    "            linked_nodes=linked_nodes|set(map_graph.neighbors(node,mode=\"OUT\"))\n",
    "    return linked_nodes"
   ]
  },
  {
   "cell_type": "code",
   "execution_count": null,
   "metadata": {
    "collapsed": true
   },
   "outputs": [],
   "source": [
    "def gamma_plus_plus(C):\n",
    "    return gamma_plus(C) - gamma_corresp(C) "
   ]
  },
  {
   "cell_type": "code",
   "execution_count": null,
   "metadata": {
    "collapsed": true
   },
   "outputs": [],
   "source": [
    "def association_item_concept(item, concept):\n",
    "    return (\"q_\"+concept+\"_\"+item.split(\"_\")[2] in map_graph.vs[\"item pool\"][int(concept)-1])&(item.split(\"_\")[1] == concept)"
   ]
  },
  {
   "cell_type": "code",
   "execution_count": null,
   "metadata": {
    "collapsed": true
   },
   "outputs": [],
   "source": [
    "def indirect_association_item_concept(item, concept):\n",
    "    if association_item_concept(item, concept):\n",
    "        return False\n",
    "    return (int(concept)-1 in gamma_plus(item.split(\"_\")[1]))\n"
   ]
  },
  {
   "cell_type": "code",
   "execution_count": null,
   "metadata": {
    "collapsed": true
   },
   "outputs": [],
   "source": [
    "def total_association_item_concept(item, concept):\n",
    "    return indirect_association_item_concept(item, concept) + association_item_concept(item, concept)"
   ]
  },
  {
   "cell_type": "code",
   "execution_count": null,
   "metadata": {
    "collapsed": true
   },
   "outputs": [],
   "source": [
    "def proba_with_level(u,k):\n",
    "    c = .5\n",
    "    return np.where(x<(k/2.),(x*2.*c)/float(k),(3.*x+2*k-7.)/(5*(k-2.)))"
   ]
  },
  {
   "cell_type": "code",
   "execution_count": null,
   "metadata": {
    "collapsed": false
   },
   "outputs": [],
   "source": [
    "@jit\n",
    "def displaced_discrete_gaussian(level_max, factor=0):\n",
    "    p_theta = np.arange(level_max)\n",
    "    mean = ((k-1)/2.)+factor\n",
    "    custom_norm = norm(loc=mean,scale=10) \n",
    "    p_theta=custom_norm.cdf(p_theta)\n",
    "    y = np.zeros(level_max)\n",
    "    y[1:] = p_theta[:-1]\n",
    "    p_theta = p_theta - y\n",
    "    return p_theta/sum(p_theta)"
   ]
  },
  {
   "cell_type": "code",
   "execution_count": null,
   "metadata": {
    "collapsed": false
   },
   "outputs": [],
   "source": [
    "k = 10\n",
    "number_users = 1000\n",
    "x = np.arange(k)\n",
    "y = proba_with_level(x,k)\n",
    "plot(y)"
   ]
  },
  {
   "cell_type": "code",
   "execution_count": null,
   "metadata": {
    "collapsed": false
   },
   "outputs": [],
   "source": [
    "def generate_score_panel_with_hierarchy(k,map_graph,N, number_users):\n",
    "    level_users = np.zeros([number_users, len(N)])\n",
    "    answers = {}\n",
    "    scores = {}\n",
    "    visited_nodes = set()\n",
    "    vals = np.arange(k)\n",
    "    probas = proba_with_level(vals,k)\n",
    "    unvisited_nodes = set(map_graph.vs)\n",
    "    mastered = np.zeros([number_users])\n",
    "    while unvisited_nodes:\n",
    "        for v in set(unvisited_nodes):\n",
    "            capsule_pos = int(v[\"name\"]) -1\n",
    "            answers[capsule_pos] = []\n",
    "            parents = set(map_graph.vs[i] for i in map_graph.neighbors(v, mode=\"IN\"))\n",
    "            if parents:\n",
    "                if parents <= visited_nodes:\n",
    "                    v[\"depth\"] = np.amax([parent[\"depth\"] for parent in parents]) + 1\n",
    "                    for user in range(number_users):\n",
    "                        mastered_previous = any([level_users[user][int(parent[\"name\"])-1] >= 5 for parent in parents])\n",
    "                        if mastered_previous:\n",
    "                            offset = v[\"depth\"]\n",
    "                        else:\n",
    "                            offset = 0\n",
    "                        level_users[user][capsule_pos] = np.random.choice(\n",
    "                            np.arange(k), p=displaced_discrete_gaussian(k,offset))\n",
    "                        answers[capsule_pos].append(\n",
    "                            np.random.binomial(\n",
    "                                p=probas[level_users[user][capsule_pos]], n=1, size=N[capsule_pos]))\n",
    "                    scores[capsule_pos] = np.mean(answers[capsule_pos],axis=1)\n",
    "                    visited_nodes.add(v)\n",
    "                    unvisited_nodes.remove(v)\n",
    "            else:\n",
    "                v[\"depth\"] = 1\n",
    "                for user in range(number_users):\n",
    "                    level_users[user][0] = np.random.choice(np.arange(k), p=displaced_discrete_gaussian(k))\n",
    "                    answers[capsule_pos].append(\n",
    "                            np.random.binomial(\n",
    "                                p=probas[level_users[user][capsule_pos]], n=1, size=N[capsule_pos]))\n",
    "                visited_nodes.add(v)\n",
    "                unvisited_nodes.remove(v)\n",
    "    return answers,scores,level_users\n",
    "\n",
    "        "
   ]
  },
  {
   "cell_type": "code",
   "execution_count": null,
   "metadata": {
    "collapsed": false
   },
   "outputs": [],
   "source": [
    "np.random.choice(\n",
    "                            np.arange(k), p=displaced_discrete_gaussian(k))"
   ]
  },
  {
   "cell_type": "code",
   "execution_count": null,
   "metadata": {
    "collapsed": false
   },
   "outputs": [],
   "source": [
    "generate_score_panel_with_hierarchy(10,map_graph,N, 100)"
   ]
  },
  {
   "cell_type": "code",
   "execution_count": 90,
   "metadata": {
    "collapsed": false
   },
   "outputs": [
    {
     "data": {
      "text/plain": [
       "array([ 0.   ,  0.1  ,  0.2  ,  0.3  ,  0.4  ,  0.7  ,  0.775,  0.85 ,\n",
       "        0.925,  1.   ])"
      ]
     },
     "execution_count": 90,
     "metadata": {},
     "output_type": "execute_result"
    }
   ],
   "source": [
    "x = np.arange(10)\n",
    "proba_with_level(x,10)"
   ]
  }
 ],
 "metadata": {
  "kernelspec": {
   "display_name": "Python 2",
   "language": "python",
   "name": "python2"
  },
  "language_info": {
   "codemirror_mode": {
    "name": "ipython",
    "version": 2
   },
   "file_extension": ".py",
   "mimetype": "text/x-python",
   "name": "python",
   "nbconvert_exporter": "python",
   "pygments_lexer": "ipython2",
   "version": "2.7.12"
  }
 },
 "nbformat": 4,
 "nbformat_minor": 0
}
