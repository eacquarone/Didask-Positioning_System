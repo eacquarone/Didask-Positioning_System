{
 "cells": [
  {
   "cell_type": "code",
   "execution_count": 1,
   "metadata": {
    "collapsed": false
   },
   "outputs": [
    {
     "name": "stdout",
     "output_type": "stream",
     "text": [
      "Populating the interactive namespace from numpy and matplotlib\n"
     ]
    }
   ],
   "source": [
    "%pylab inline"
   ]
  },
  {
   "cell_type": "code",
   "execution_count": 2,
   "metadata": {
    "collapsed": true
   },
   "outputs": [],
   "source": [
    "import sys\n",
    "reload(sys)\n",
    "sys.setdefaultencoding(\"utf-8\")"
   ]
  },
  {
   "cell_type": "code",
   "execution_count": 24,
   "metadata": {
    "collapsed": false
   },
   "outputs": [],
   "source": [
    "import numpy as np\n",
    "import pandas as pd\n",
    "import pymc\n",
    "import statsmodels.api as sm\n",
    "from scipy.optimize import minimize, minimize_scalar"
   ]
  },
  {
   "cell_type": "markdown",
   "metadata": {},
   "source": [
    "# Commencer ici"
   ]
  },
  {
   "cell_type": "code",
   "execution_count": 4,
   "metadata": {
    "collapsed": false
   },
   "outputs": [],
   "source": [
    "df = pd.read_csv(\"BaseFinale\",index_col=0)\n",
    "base_continent = df[df[\"Map Name\"] == \"Naissance d'une théorie:  de la dérive des continents à l'expansion océanique\"]\n",
    "base_regard = df[df['Map Name'] == \"Transformer son regard\"]\n",
    "base_autres = df[df['Map Name'] == \"Transformer les autres\"]\n",
    "base_adn = df[(df['Map Name'] == \"L'ADN [copy] [copie]\") |(df['Map Name'] == \"L'ADN [copy]\") | (df['Map Name'] == \"L'ADN\")]"
   ]
  },
  {
   "cell_type": "markdown",
   "metadata": {
    "collapsed": false
   },
   "source": [
    "# Bayes Network MotherF####R"
   ]
  },
  {
   "cell_type": "code",
   "execution_count": null,
   "metadata": {
    "collapsed": false
   },
   "outputs": [],
   "source": [
    "base = base_regard.copy()"
   ]
  },
  {
   "cell_type": "code",
   "execution_count": null,
   "metadata": {
    "collapsed": false
   },
   "outputs": [],
   "source": [
    "list_nom = dict(set([(b,a) for a,b in (base[[\"capsule name\",\"Capsule id\"]].values)]))\n",
    "list_orig_dest = dict(set([(a,b) for a,b in (base[[\"Capsule id\",\"list Destination\"]].values)]))"
   ]
  },
  {
   "cell_type": "code",
   "execution_count": null,
   "metadata": {
    "collapsed": false
   },
   "outputs": [],
   "source": [
    "list_capsule = {}\n",
    "for id_c in list_nom.keys():\n",
    "    list_capsule[id_c] = base[base[\"Capsule id\"] == id_c]\n",
    "    list_capsule[id_c].drop(\"Capsule id\", axis=1, inplace = True)\n",
    "    list_capsule[id_c].sort(\"date created\")\n",
    "    list_capsule[id_c].drop([\n",
    "                            \"date created\",\n",
    "                             \"date joined\",\n",
    "                             'date updated',\n",
    "                             'author user name',\n",
    "                             'user name',\n",
    "                             'type of author',\n",
    "                             'user id',\n",
    "                             'author user id',\n",
    "                             'test attempt',\n",
    "                             'capsule name',\n",
    "                             'Map Name',\n",
    "                             'map id',\n",
    "                             'list Destination',\n",
    "                             'is draft',\n",
    "                             'is public'\n",
    "                                \n",
    "                            ], axis=1, inplace=True)\n",
    "    list_capsule[id_c][\"delta approximate real duration\"] = list_capsule[id_c][\"approximate capsule duration\"] - \\\n",
    "                                                            list_capsule[id_c][\"duration\"]\n",
    "    list_capsule[id_c].drop([\"approximate capsule duration\"], axis=1, inplace=True)\n",
    "    list_capsule[id_c].reset_index"
   ]
  },
  {
   "cell_type": "code",
   "execution_count": null,
   "metadata": {
    "collapsed": false
   },
   "outputs": [],
   "source": [
    "dict_questions = {}\n",
    "for capsule_id, capsule in list_capsule.iteritems():\n",
    "    n_questions = capsule[\"question number\"].max()\n",
    "    dict_questions[capsule_id] = n_questions\n",
    "dict_questions"
   ]
  },
  {
   "cell_type": "code",
   "execution_count": null,
   "metadata": {
    "collapsed": false
   },
   "outputs": [],
   "source": [
    "from pymc import DiscreteUniform, Uniform, Bernoulli\n",
    "\n",
    "alpha = Uniform('alpha', lower=0., upper=1.)\n",
    "beta = Uniform('beta',lower=alpha, upper=1.)\n",
    "mu = Uniform('mu', lower=0., upper=1.)\n",
    "ksi = Uniform('ksi',lower=mu, upper=1.)\n",
    "capsule_dict = {}\n",
    "for capsule_id, nom in list_nom.iteritems():\n",
    "    if list_orig_dest[capsule_id] is nan:\n",
    "        capsule_dict[capsule_id] = Bernoulli('capsule_'+nom, p=0.5)"
   ]
  },
  {
   "cell_type": "code",
   "execution_count": null,
   "metadata": {
    "collapsed": false
   },
   "outputs": [],
   "source": [
    "from pymc import Lambda, Deterministic\n",
    "S = {}\n",
    "p = {}\n",
    "for capsule_id, list_dest in list_orig_dest.iteritems():\n",
    "    if list_orig_dest[capsule_id] is not nan:\n",
    "        dict_dest = {capsule_id_dest: value for capsule_id_dest, value in capsule_dict.iteritems() if capsule_id_dest in list_dest}\n",
    "        S[capsule_id] = (sum(dict_dest.values()))/float(len(dict_dest))\n",
    "        p1 = (S[capsule_id]*mu + (1-S[capsule_id])*ksi)\n",
    "        p[capsule_id] = p1\n",
    "        capsule_dict[capsule_id] = Bernoulli('capsule_'+list_nom[capsule_id], p=max(1e-6,p[capsule_id]))\n"
   ]
  },
  {
   "cell_type": "code",
   "execution_count": null,
   "metadata": {
    "collapsed": false
   },
   "outputs": [],
   "source": [
    "S['570ce2c20a728f61eeaca941']"
   ]
  },
  {
   "cell_type": "code",
   "execution_count": null,
   "metadata": {
    "collapsed": false
   },
   "outputs": [],
   "source": [
    "import pymc\n",
    "question_va_dict = {}\n",
    "p_question = []\n",
    "for capsule_id, capsule in capsule_dict.iteritems():\n",
    "    capsule_df = list_capsule[capsule_id]\n",
    "    for i in range(dict_questions[capsule_id]):\n",
    "        p2 = capsule*beta+(1-capsule)*alpha\n",
    "        p_question.append(p2)\n",
    "        question_va_dict[(i,capsule_id)] = Bernoulli(\"question_\"+str(i+1)+\"_capsule_\"+list_nom[capsule_id][-1:],\n",
    "                                                    p=max(1e-6,p_question[-1]),\n",
    "                                                    value=capsule_df[capsule_df[\"question number\"]==i][\"success\"],\n",
    "                                                    observed=True\n",
    "                                                    )"
   ]
  },
  {
   "cell_type": "code",
   "execution_count": null,
   "metadata": {
    "collapsed": false
   },
   "outputs": [],
   "source": [
    "M.stats()"
   ]
  },
  {
   "cell_type": "code",
   "execution_count": null,
   "metadata": {
    "collapsed": false
   },
   "outputs": [],
   "source": [
    "from pymc import Model\n",
    "from pymc.graph import dag, graph, moral_graph\n",
    "from IPython.display import Image, display\n",
    "\n",
    "model = Model(capsule_dict.values()+p.values()+question_va_dict.values()+p_question)\n",
    "graph = graph(model)\n",
    "Image(graph.create_png())"
   ]
  },
  {
   "cell_type": "code",
   "execution_count": null,
   "metadata": {
    "collapsed": false
   },
   "outputs": [],
   "source": [
    "from pymc import MCMC\n",
    "M = MCMC([alpha,beta,mu,ksi]+capsule_dict.values()+question_va_dict.values())\n",
    "M.sample(iter=5000)"
   ]
  },
  {
   "cell_type": "code",
   "execution_count": null,
   "metadata": {
    "collapsed": false
   },
   "outputs": [],
   "source": [
    "from pymc.Matplot import plot\n",
    "len(M.trace(\"mu\")[:])"
   ]
  },
  {
   "cell_type": "code",
   "execution_count": null,
   "metadata": {
    "collapsed": false
   },
   "outputs": [],
   "source": [
    "from pymc import Matplot\n",
    "Matplot.plot(M)"
   ]
  },
  {
   "cell_type": "code",
   "execution_count": null,
   "metadata": {
    "collapsed": false
   },
   "outputs": [],
   "source": [
    "dict_trace = {}\n",
    "for capsule_id, nom in list_nom.iteritems():\n",
    "    dict_trace[nom] = np.mean(M.trace(\"capsule_\"+nom)[:])\n",
    "    try:\n",
    "        dict_trace[\"p_\"+nom] = [a.value for a in M.trace(\"p_\"+nom)[:]]\n",
    "        for i in range(11):\n",
    "            try:\n",
    "                dict_trace[\"p_\"+nom+\"_question_\"+str(i+1)] = np.mean([a.value for a in M.trace(\"p_\"+nom+\"_question_\"+str(i+1))[:]])\n",
    "            except:\n",
    "                pass\n",
    "    except:\n",
    "        pass\n",
    "dict_trace\n"
   ]
  },
  {
   "cell_type": "markdown",
   "metadata": {},
   "source": [
    "# Item Response Theory"
   ]
  },
  {
   "cell_type": "code",
   "execution_count": 4,
   "metadata": {
    "collapsed": true
   },
   "outputs": [],
   "source": [
    "def proba_irt(a,b,c,theta):\n",
    "    n_question = len(a)\n",
    "    p = np.zeros(n_question)\n",
    "    for i in range(n_question):\n",
    "        p[i] = c[i] + (1.-c[i])/(1.+exp(-a[i]*(theta-b[i])))\n",
    "    return p"
   ]
  },
  {
   "cell_type": "code",
   "execution_count": 135,
   "metadata": {
    "collapsed": false
   },
   "outputs": [
    {
     "data": {
      "text/plain": [
       "array([ 0.70682222,  0.5       ])"
      ]
     },
     "execution_count": 135,
     "metadata": {},
     "output_type": "execute_result"
    }
   ],
   "source": [
    "p_test = proba_irt([0.4,2],[.8,3.],[0.,0.],3.)\n",
    "p_test"
   ]
  },
  {
   "cell_type": "code",
   "execution_count": 5,
   "metadata": {
    "collapsed": true
   },
   "outputs": [],
   "source": [
    "\"\"\"a = np.array([0.4,2])\n",
    "b = np.array([.8,3.])\n",
    "c = np.array([0.,0.])\n",
    "u = np.array([1.,0.])\"\"\"\n",
    "def neg_log_likelihood(a,b,c,u,X):\n",
    "    p = proba_irt(a,b,c,X)\n",
    "    n = len(u)\n",
    "    ones = np.ones(n)\n",
    "    return -np.sum(u*log(p)+(ones-u)*log(ones-p))"
   ]
  },
  {
   "cell_type": "code",
   "execution_count": 6,
   "metadata": {
    "collapsed": false
   },
   "outputs": [
    {
     "data": {
      "text/plain": [
       "nan"
      ]
     },
     "execution_count": 6,
     "metadata": {},
     "output_type": "execute_result"
    }
   ],
   "source": [
    "neg_log_likelihood([10000.,10000.],[0.,0.],[0.5,0.5],[1.,0.],1.)"
   ]
  },
  {
   "cell_type": "code",
   "execution_count": 929,
   "metadata": {
    "collapsed": false
   },
   "outputs": [
    {
     "data": {
      "text/plain": [
       "-1.0"
      ]
     },
     "execution_count": 929,
     "metadata": {},
     "output_type": "execute_result"
    }
   ],
   "source": [
    "u = np.array([1.,1.])\n",
    "p = np.array([0.5,0.5])\n",
    "ones = np.ones(2)\n",
    "-np.sum(u*p+(ones-u)*(ones-p))"
   ]
  },
  {
   "cell_type": "code",
   "execution_count": 23,
   "metadata": {
    "collapsed": false
   },
   "outputs": [],
   "source": [
    "def opt_theta(a,b,c,u):\n",
    "    return minimize_scalar(lambda x: neg_log_likelihood(a,b,c,u,x), tol=1e-6).x"
   ]
  },
  {
   "cell_type": "code",
   "execution_count": 26,
   "metadata": {
    "collapsed": false
   },
   "outputs": [
    {
     "data": {
      "text/plain": [
       "-178.67148215971733"
      ]
     },
     "execution_count": 26,
     "metadata": {},
     "output_type": "execute_result"
    }
   ],
   "source": [
    "opt_theta(np.array([0.4,2]), np.array([.8,3.]),np.array([.3,.2]), np.array([0.,0.]))"
   ]
  },
  {
   "cell_type": "markdown",
   "metadata": {},
   "source": [
    "$$ I_{U_{i_1},..,U_{i_{k-1}}}(\\theta) =  \\sum_{j=1}^{k-1}{\\frac{p'_{i_j}(\\theta)^2}{p_{i_j}(\\theta)\\cdot(1-p_{i_j}(\\theta))}}$$\n",
    "On va aussi utiliser le fait que :\n",
    "$$ p'_{i_j}(\\theta) = \\frac{a_{i_j}\\cdot(p_{i_j}(\\theta)-c_{i_j})\\cdot(1-p_{i_j}(\\theta))}{1-c_{i_j}}$$\n"
   ]
  },
  {
   "cell_type": "code",
   "execution_count": 9,
   "metadata": {
    "collapsed": true
   },
   "outputs": [],
   "source": [
    "def fish_info_part(a_k,b_k,c_k,theta):\n",
    "    p_k = proba_irt([a_k],[b_k],[c_k],theta)\n",
    "    q_k = 1- p_k\n",
    "    dp_k = float(a_k/(1-c_k))*(p_k-c_k)*q_k\n",
    "    return dp_k**2/(p_k*q_k)"
   ]
  },
  {
   "cell_type": "code",
   "execution_count": 10,
   "metadata": {
    "collapsed": false
   },
   "outputs": [],
   "source": [
    "def find_max_info(R,theta):\n",
    "    m = np.argmax([fish_info_part(a_k,b_k,c_k, theta) for a_k,b_k,c_k in R])\n",
    "    return(m)"
   ]
  },
  {
   "cell_type": "code",
   "execution_count": 11,
   "metadata": {
    "collapsed": false
   },
   "outputs": [],
   "source": [
    "from sklearn.linear_model import LogisticRegression\n",
    "def update_parameters(data,target):\n",
    "    train_cols = data.columns - [target]\n",
    "    logit = sm.Logit(data[target], data[train_cols])\n",
    "    #logit = LogisticRegression()\n",
    "    #result = logit.fit(data[train_cols],data[target])\n",
    "    #return result.coef_\n",
    "    result = logit.fit()\n",
    "    return result\n",
    "    "
   ]
  },
  {
   "cell_type": "code",
   "execution_count": 12,
   "metadata": {
    "collapsed": false
   },
   "outputs": [
    {
     "data": {
      "text/html": [
       "<table class=\"simpletable\">\n",
       "<caption>Logit Regression Results</caption>\n",
       "<tr>\n",
       "  <th>Dep. Variable:</th>    <td>question_i</td>    <th>  No. Observations:  </th>  <td>     3</td> \n",
       "</tr>\n",
       "<tr>\n",
       "  <th>Model:</th>               <td>Logit</td>      <th>  Df Residuals:      </th>  <td>     1</td> \n",
       "</tr>\n",
       "<tr>\n",
       "  <th>Method:</th>               <td>MLE</td>       <th>  Df Model:          </th>  <td>     1</td> \n",
       "</tr>\n",
       "<tr>\n",
       "  <th>Date:</th>          <td>Wed, 03 Aug 2016</td> <th>  Pseudo R-squ.:     </th>  <td>0.1792</td> \n",
       "</tr>\n",
       "<tr>\n",
       "  <th>Time:</th>              <td>12:09:18</td>     <th>  Log-Likelihood:    </th> <td> -1.5674</td>\n",
       "</tr>\n",
       "<tr>\n",
       "  <th>converged:</th>           <td>True</td>       <th>  LL-Null:           </th> <td> -1.9095</td>\n",
       "</tr>\n",
       "<tr>\n",
       "  <th> </th>                      <td> </td>        <th>  LLR p-value:       </th>  <td>0.4081</td> \n",
       "</tr>\n",
       "</table>\n",
       "<table class=\"simpletable\">\n",
       "<tr>\n",
       "      <td></td>         <th>coef</th>     <th>std err</th>      <th>z</th>      <th>P>|z|</th>  <th>[0.025</th>    <th>0.975]</th>  \n",
       "</tr>\n",
       "<tr>\n",
       "  <th>intercept</th> <td>   -0.5448</td> <td>    2.000</td> <td>   -0.272</td> <td> 0.785</td> <td>   -4.465</td> <td>    3.375</td>\n",
       "</tr>\n",
       "<tr>\n",
       "  <th>theta</th>     <td>    0.2551</td> <td>    0.427</td> <td>    0.597</td> <td> 0.550</td> <td>   -0.582</td> <td>    1.092</td>\n",
       "</tr>\n",
       "</table>"
      ],
      "text/plain": [
       "<class 'statsmodels.iolib.summary.Summary'>\n",
       "\"\"\"\n",
       "                           Logit Regression Results                           \n",
       "==============================================================================\n",
       "Dep. Variable:             question_i   No. Observations:                    3\n",
       "Model:                          Logit   Df Residuals:                        1\n",
       "Method:                           MLE   Df Model:                            1\n",
       "Date:                Wed, 03 Aug 2016   Pseudo R-squ.:                  0.1792\n",
       "Time:                        12:09:18   Log-Likelihood:                -1.5674\n",
       "converged:                       True   LL-Null:                       -1.9095\n",
       "                                        LLR p-value:                    0.4081\n",
       "==============================================================================\n",
       "                 coef    std err          z      P>|z|      [0.025      0.975]\n",
       "------------------------------------------------------------------------------\n",
       "intercept     -0.5448      2.000     -0.272      0.785      -4.465       3.375\n",
       "theta          0.2551      0.427      0.597      0.550      -0.582       1.092\n",
       "==============================================================================\n",
       "\"\"\""
      ]
     },
     "execution_count": 12,
     "metadata": {},
     "output_type": "execute_result"
    }
   ],
   "source": [
    "data = pd.DataFrame.from_dict({'question_i':[0.,1.,1.],'theta':[3.,14.,2.]})\n",
    "data['intercept'] = 1.\n",
    "update_parameters(data,'question_i').summary()"
   ]
  },
  {
   "cell_type": "code",
   "execution_count": null,
   "metadata": {
    "collapsed": false
   },
   "outputs": [],
   "source": [
    "range(100)"
   ]
  },
  {
   "cell_type": "markdown",
   "metadata": {},
   "source": [
    "# Création d'un dataset de simulation pour theta fixe et on cherche à estimer a et b"
   ]
  },
  {
   "cell_type": "code",
   "execution_count": 994,
   "metadata": {
    "collapsed": false
   },
   "outputs": [],
   "source": [
    "dico = {}\n",
    "dico[\"user\"] = []\n",
    "list_questions = np.array([[1.,4.,0.],[2.,1.,0.],[3.,4.,0.],[4.,1.2,0.],[5.,0.,0.]])\n",
    "for i in range(100):\n",
    "    dico['user'] += [\"user\"+str(i+1)]\n",
    "dico['theta'] = np.random.randn(len(dico['user']))\n",
    "#pd.DataFrame.from_dict(dico)"
   ]
  },
  {
   "cell_type": "code",
   "execution_count": 995,
   "metadata": {
    "collapsed": false
   },
   "outputs": [],
   "source": [
    "list_answers = [list_questions.T[0]*(np.ones(len(list_questions.T[1]))*theta-list_questions.T[1])+np.random.logistic(len(list_questions.T[1]))>0 for theta in dico['theta']]"
   ]
  },
  {
   "cell_type": "code",
   "execution_count": 996,
   "metadata": {
    "collapsed": false
   },
   "outputs": [],
   "source": [
    "for i in range(len(np.array(list_questions).T)):\n",
    "    dico['answer'+str(i+1)] = np.array(list_answers).T[i]\n",
    "data = pd.DataFrame.from_dict(dico)\n",
    "#for i in range(5):\n",
    "#    data['question'+str(i+1)]=data['proba'+str(i+1)].apply(lambda x: 1 if x >= 0.5 else 0)\n",
    "data[\"intercept\"] =1."
   ]
  },
  {
   "cell_type": "markdown",
   "metadata": {},
   "source": [
    "# Question difficile en terme de distinction entre 0 et 1"
   ]
  },
  {
   "cell_type": "code",
   "execution_count": 997,
   "metadata": {
    "collapsed": false
   },
   "outputs": [
    {
     "data": {
      "text/plain": [
       "<matplotlib.collections.PathCollection at 0x7fe249ea8fd0>"
      ]
     },
     "execution_count": 997,
     "metadata": {},
     "output_type": "execute_result"
    },
    {
     "data": {
      "image/png": "[encoded data removed]",
      "text/plain": [
       "<matplotlib.figure.Figure at 0x7fe249e68750>"
      ]
     },
     "metadata": {},
     "output_type": "display_data"
    }
   ],
   "source": [
    "plt.scatter(data['theta'],np.array(list_answers).T[0])"
   ]
  },
  {
   "cell_type": "code",
   "execution_count": 998,
   "metadata": {
    "collapsed": false
   },
   "outputs": [
    {
     "data": {
      "text/plain": [
       "<matplotlib.collections.PathCollection at 0x7fe24a06a190>"
      ]
     },
     "execution_count": 998,
     "metadata": {},
     "output_type": "execute_result"
    },
    {
     "data": {
      "image/png": "[encoded data removed]",
      "text/plain": [
       "<matplotlib.figure.Figure at 0x7fe24a16f290>"
      ]
     },
     "metadata": {},
     "output_type": "display_data"
    }
   ],
   "source": [
    "plt.scatter(data['theta'],np.array(list_answers).T[1])"
   ]
  },
  {
   "cell_type": "code",
   "execution_count": 999,
   "metadata": {
    "collapsed": false
   },
   "outputs": [
    {
     "data": {
      "text/html": [
       "<table class=\"simpletable\">\n",
       "<caption>Logit Regression Results</caption>\n",
       "<tr>\n",
       "  <th>Dep. Variable:</th>      <td>answer2</td>     <th>  No. Observations:  </th>  <td>   100</td>  \n",
       "</tr>\n",
       "<tr>\n",
       "  <th>Model:</th>               <td>Logit</td>      <th>  Df Residuals:      </th>  <td>    98</td>  \n",
       "</tr>\n",
       "<tr>\n",
       "  <th>Method:</th>               <td>MLE</td>       <th>  Df Model:          </th>  <td>     1</td>  \n",
       "</tr>\n",
       "<tr>\n",
       "  <th>Date:</th>          <td>Tue, 02 Aug 2016</td> <th>  Pseudo R-squ.:     </th>  <td>0.2537</td>  \n",
       "</tr>\n",
       "<tr>\n",
       "  <th>Time:</th>              <td>18:49:22</td>     <th>  Log-Likelihood:    </th> <td> -37.346</td> \n",
       "</tr>\n",
       "<tr>\n",
       "  <th>converged:</th>           <td>True</td>       <th>  LL-Null:           </th> <td> -50.040</td> \n",
       "</tr>\n",
       "<tr>\n",
       "  <th> </th>                      <td> </td>        <th>  LLR p-value:       </th> <td>4.685e-07</td>\n",
       "</tr>\n",
       "</table>\n",
       "<table class=\"simpletable\">\n",
       "<tr>\n",
       "      <td></td>         <th>coef</th>     <th>std err</th>      <th>z</th>      <th>P>|z|</th>  <th>[0.025</th>    <th>0.975]</th>  \n",
       "</tr>\n",
       "<tr>\n",
       "  <th>intercept</th> <td>    2.3642</td> <td>    0.452</td> <td>    5.230</td> <td> 0.000</td> <td>    1.478</td> <td>    3.250</td>\n",
       "</tr>\n",
       "<tr>\n",
       "  <th>theta</th>     <td>    1.6972</td> <td>    0.423</td> <td>    4.012</td> <td> 0.000</td> <td>    0.868</td> <td>    2.526</td>\n",
       "</tr>\n",
       "</table>"
      ],
      "text/plain": [
       "<class 'statsmodels.iolib.summary.Summary'>\n",
       "\"\"\"\n",
       "                           Logit Regression Results                           \n",
       "==============================================================================\n",
       "Dep. Variable:                answer2   No. Observations:                  100\n",
       "Model:                          Logit   Df Residuals:                       98\n",
       "Method:                           MLE   Df Model:                            1\n",
       "Date:                Tue, 02 Aug 2016   Pseudo R-squ.:                  0.2537\n",
       "Time:                        18:49:22   Log-Likelihood:                -37.346\n",
       "converged:                       True   LL-Null:                       -50.040\n",
       "                                        LLR p-value:                 4.685e-07\n",
       "==============================================================================\n",
       "                 coef    std err          z      P>|z|      [0.025      0.975]\n",
       "------------------------------------------------------------------------------\n",
       "intercept      2.3642      0.452      5.230      0.000       1.478       3.250\n",
       "theta          1.6972      0.423      4.012      0.000       0.868       2.526\n",
       "==============================================================================\n",
       "\"\"\""
      ]
     },
     "execution_count": 999,
     "metadata": {},
     "output_type": "execute_result"
    }
   ],
   "source": [
    "update_parameters(data[['answer2','theta','intercept']], 'answer2').summary()"
   ]
  },
  {
   "cell_type": "code",
   "execution_count": 1000,
   "metadata": {
    "collapsed": false
   },
   "outputs": [
    {
     "data": {
      "text/plain": [
       "1.4762375747984768"
      ]
     },
     "execution_count": 1000,
     "metadata": {},
     "output_type": "execute_result"
    }
   ],
   "source": [
    "2.9851/2.0221"
   ]
  },
  {
   "cell_type": "markdown",
   "metadata": {},
   "source": [
    "# a et b fixés on cherche à retrouver theta en posant 50 questions"
   ]
  },
  {
   "cell_type": "code",
   "execution_count": 27,
   "metadata": {
    "collapsed": false
   },
   "outputs": [
    {
     "data": {
      "text/plain": [
       "0.66000000000000003"
      ]
     },
     "execution_count": 27,
     "metadata": {},
     "output_type": "execute_result"
    }
   ],
   "source": [
    "# Le theta à retrouver\n",
    "theta = 0.73\n",
    "# Nombre de questions\n",
    "n_questions = 100\n",
    "list_questions = np.random.rand(n_questions,3)*20\n",
    "list_questions\n",
    "list_answers = [\n",
    "    list_questions.T[0]\n",
    "    *(np.ones(len(list_questions.T[1]))*theta\n",
    "    -list_questions.T[1])\n",
    "    +np.random.logistic(len(list_questions.T[1]))\n",
    "    >0\n",
    "]\n",
    "np.mean(list_answers)"
   ]
  },
  {
   "cell_type": "code",
   "execution_count": 554,
   "metadata": {
    "collapsed": false
   },
   "outputs": [
    {
     "data": {
      "text/plain": [
       "array([0])"
      ]
     },
     "execution_count": 554,
     "metadata": {},
     "output_type": "execute_result"
    }
   ],
   "source": [
    "l = np.array([0,1,2])\n",
    "np.delete(l,[1,2])"
   ]
  },
  {
   "cell_type": "code",
   "execution_count": 31,
   "metadata": {
    "collapsed": false
   },
   "outputs": [],
   "source": [
    "list_theta_guess = []\n",
    "list_index = np.array(range(len(list_answers[0])))\n",
    "j = 0\n",
    "i_j = [0]\n",
    "R = list_index.copy()\n",
    "R = np.delete(R,0)\n",
    "while (len(i_j) != len(list_answers[0]))and(i_j[-1] != \"done\"):\n",
    "    theta_i = opt_theta(\n",
    "        list_questions.T[0][i_j],\n",
    "        list_questions.T[1][i_j],\n",
    "        list_questions.T[2][i_j],\n",
    "        list_answers[0][i_j]\n",
    "    )\n",
    "    list_theta_guess.append(theta_i)\n",
    "    k = find_max_info(list_questions[R],theta_i)\n",
    "    i_j.append(R[k])\n",
    "    R = np.delete(R,k)\n",
    "    print(j)\n",
    "    j+=1\n",
    "    \n",
    "    \n",
    "    \n",
    "    \n",
    "    \n",
    "    "
   ]
  },
  {
   "cell_type": "code",
   "execution_count": 32,
   "metadata": {
    "collapsed": false
   },
   "outputs": [
    {
     "data": {
      "text/plain": [
       "[<matplotlib.lines.Line2D at 0x7fe9455e3d50>]"
      ]
     },
     "execution_count": 32,
     "metadata": {},
     "output_type": "execute_result"
    },
    {
     "data": {
      "image/png": "[encoded data removed]",
      "text/plain": [
       "<matplotlib.figure.Figure at 0x7fe9456ec850>"
      ]
     },
     "metadata": {},
     "output_type": "display_data"
    }
   ],
   "source": [
    "plt.plot(list_theta_guess)"
   ]
  },
  {
   "cell_type": "code",
   "execution_count": 18,
   "metadata": {
    "collapsed": false
   },
   "outputs": [
    {
     "data": {
      "text/plain": [
       "100"
      ]
     },
     "execution_count": 18,
     "metadata": {},
     "output_type": "execute_result"
    }
   ],
   "source": [
    "len(i_j)"
   ]
  }
 ],
 "metadata": {
  "kernelspec": {
   "display_name": "Python 2",
   "language": "python",
   "name": "python2"
  },
  "language_info": {
   "codemirror_mode": {
    "name": "ipython",
    "version": 2
   },
   "file_extension": ".py",
   "mimetype": "text/x-python",
   "name": "python",
   "nbconvert_exporter": "python",
   "pygments_lexer": "ipython2",
   "version": "2.7.12"
  }
 },
 "nbformat": 4,
 "nbformat_minor": 0
}
